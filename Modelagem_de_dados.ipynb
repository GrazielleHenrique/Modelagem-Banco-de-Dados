{
  "nbformat": 4,
  "nbformat_minor": 0,
  "metadata": {
    "colab": {
      "provenance": []
    },
    "kernelspec": {
      "name": "python3",
      "display_name": "Python 3"
    },
    "language_info": {
      "name": "python"
    }
  },
  "cells": [
    {
      "cell_type": "markdown",
      "source": [
        "## 1º Projeto Prático - Dados -  Desenvolve Boticário <br>\n",
        "###Modelagem de Banco de Dados Relacional <br>\n",
        "\n",
        "Grazielle dos Santos Henrique"
      ],
      "metadata": {
        "id": "a2y-cCM8dTYy"
      }
    },
    {
      "cell_type": "markdown",
      "source": [
        "Desafio:<br><br>\n",
        "Modele um banco de dados relacional que representa o negócio do Boticário. O\n",
        "projeto deve levar em consideração somente os conceitos e entidades relacionados à parte de vendas, sistema de pontuação e gestão de produtos em estoque. Ao final, você deverá ter aprendido a identificar entidades,  relacionamentos e atributos, além de criar a modelagem lógica e física do banco de dados."
      ],
      "metadata": {
        "id": "YjHPBLrMJ7Vh"
      }
    },
    {
      "cell_type": "markdown",
      "source": [
        "Etapas: <br><br>\n",
        "a. Análise de Requisitos: Entenda os requisitos da aplicação e identifique as entidades, relacionamentos e atributos necessários.<br>\n",
        "b. Modelagem Lógica: Crie um diagrama ER (Entidade-Relacionamento) que\n",
        "represente a estrutura lógica do banco de dados.<br>\n",
        "c. Normalização: Aplique técnicas de normalização para organizar eficientemente os dados.<br>\n",
        "d. Modelagem Física: Projete o banco de dados físico com considerações de\n",
        "desempenho, como índices e chaves primárias.<br>\n",
        "e. Documentação: Documente a modelagem lógica e física do banco de dados."
      ],
      "metadata": {
        "id": "8oR1ztvsJ2JQ"
      }
    },
    {
      "cell_type": "markdown",
      "source": [
        "Orientações gerais: <br><br>\n",
        "Busque um segmento que você conheça, por exemplo: uma loja física que frequenta, o site, centro de distribuição ou um setor que você se identifica. Em seguida, peça apoio da sua pessoa mentora para identificar quais são as possíveis entidades necessárias para o desenvolvimento e realização das etapas do projeto."
      ],
      "metadata": {
        "id": "WhnEEopDJ5Oz"
      }
    },
    {
      "cell_type": "markdown",
      "source": [
        "---\n",
        "\n",
        "##Desenvolvendo o Banco de Dados :"
      ],
      "metadata": {
        "id": "vjgYO5rRLgy8"
      }
    },
    {
      "cell_type": "markdown",
      "source": [
        "O banco de Dados desenvolvido nesse desafio foi elaborado a partir do conhecimento pessoal de uma esmalteria que frequento e conheço, porém representando o negócio das Lojas O Boticário.<br>\n",
        "<br>\n",
        "Modelo de Negócio: Loja física\n",
        "<br>\n",
        "<br>\n",
        "Queremos coletar os dados pessoais de clientes, como pessoa física (CPF e RG) ou jurídica (CNPJ e IE). Além disso, iremos coletar e armazenar o seu nome, endereço, telefone e e-mail.\n",
        "\n",
        "Os produtos da loja têm informações como código identificador, nome do produto, categoria, validade, quantidade em estoque, valor de custo e a distribuidora.\n",
        "\n",
        "Os produtos são entregues pelas distribuidoras das quais temos o telefone, o nome de contato, o e-mail e telefone.\n",
        "\n",
        "Os clientes, sempre que fazem uma compra, pontuam no nosso programa de pontos, onde a cada 1 real gasto se ganha 1 ponto no programa.\n"
      ],
      "metadata": {
        "id": "AHPdh2jWK6p5"
      }
    },
    {
      "cell_type": "markdown",
      "source": [
        "###Modelagem conceitual\n",
        "\n",
        "![](https://github.com/GrazielleHenrique/Modelagem-Banco-de-Dados/blob/main/Imagens_Projeto/conceitual.png?raw=True)"
      ],
      "metadata": {
        "id": "lq6kuFsQUMoE"
      }
    },
    {
      "cell_type": "markdown",
      "source": [
        "###Modelagem lógica\n",
        "\n",
        "![](https://github.com/GrazielleHenrique/Modelagem-Banco-de-Dados/blob/main/Imagens_Projeto/logico.png?raw=True)"
      ],
      "metadata": {
        "id": "kNJ3nWhVUMKt"
      }
    },
    {
      "cell_type": "markdown",
      "source": [
        "###Modelagem física\n",
        "\n",
        "![](https://github.com/GrazielleHenrique/Modelagem-Banco-de-Dados/blob/main/Imagens_Projeto/fisico.png?raw=True)"
      ],
      "metadata": {
        "id": "Dv476O2hUcFu"
      }
    }
  ]
}